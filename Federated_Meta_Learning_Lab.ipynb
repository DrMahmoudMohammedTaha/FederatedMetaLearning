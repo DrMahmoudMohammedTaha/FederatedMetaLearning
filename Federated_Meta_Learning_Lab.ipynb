{
 "cells": [
  {
   "cell_type": "markdown",
   "id": "f03fcf01",
   "metadata": {},
   "source": [
    "# Federated Meta-Learning Lab\n",
    "This notebook demonstrates how to set up a federated meta-learning framework using images from three subfolders in the main dataset directory."
   ]
  },
  {
   "cell_type": "code",
   "execution_count": 1,
   "id": "acd0ab7f",
   "metadata": {},
   "outputs": [],
   "source": [
    "# Import required libraries\n",
    "import os\n",
    "import random\n",
    "from glob import glob\n",
    "from PIL import Image\n",
    "import numpy as np\n",
    "import tensorflow as tf\n",
    "from tensorflow.keras.utils import to_categorical\n",
    "from sklearn.model_selection import train_test_split"
   ]
  },
  {
   "cell_type": "code",
   "execution_count": 2,
   "id": "81ced3e9",
   "metadata": {},
   "outputs": [],
   "source": [
    "# Define the dataset path and parameters\n",
    "DATASET_PATH = \"D:\\\\Artificial Intelligence\\\\Machine Learning\\\\PhD - Advanced Machine Learning\\\\GEI Project\\\\exp - FewShotLearning\"  # Main dataset folder with subfolders for classes\n",
    "IMAGE_SIZE = (64, 64)       # Resize all images to 64x64\n",
    "NUM_CLASSES = 3             # Three classes\n",
    "CLIENTS = 3                 # Number of federated clients\n",
    "EPOCHS = 10\n",
    "BATCH_SIZE = 32"
   ]
  },
  {
   "cell_type": "code",
   "execution_count": 6,
   "id": "88543123",
   "metadata": {},
   "outputs": [],
   "source": [
    "def load_images_from_folder(folder_path, class_label, image_size):\n",
    "    \"\"\"Load images from a specific folder and assign a class label.\"\"\"\n",
    "    images = []\n",
    "    labels = []\n",
    "    image_files = glob(os.path.join(folder_path, \"*\"))\n",
    "    for img_file in image_files:\n",
    "        if img_file.lower().endswith((\".jpg\", \".jpeg\", \".png\")):  # Filter for image files\n",
    "            try:\n",
    "                img = Image.open(img_file).convert(\"RGB\").resize(image_size)\n",
    "                images.append(np.array(img) / 255.0)  # Normalize pixel values\n",
    "                labels.append(class_label)\n",
    "            except Exception as e:\n",
    "                print(f\"Error loading image {img_file}: {e}\")\n",
    "    return images, labels"
   ]
  },
  {
   "cell_type": "code",
   "execution_count": 7,
   "id": "2e079b47",
   "metadata": {},
   "outputs": [],
   "source": [
    "# Iterate through subfolders to load data for three classes\n",
    "def load_dataset(dataset_path, image_size, num_classes):\n",
    "    all_images = []\n",
    "    all_labels = []\n",
    "    subfolders = sorted(os.listdir(dataset_path))[:num_classes]  # First three classes\n",
    "    for class_idx, subfolder in enumerate(subfolders):\n",
    "        folder_path = os.path.join(dataset_path, subfolder)\n",
    "        images, labels = load_images_from_folder(folder_path, class_idx, image_size)\n",
    "        all_images.extend(images)\n",
    "        all_labels.extend(labels)\n",
    "    return np.array(all_images), np.array(all_labels)"
   ]
  },
  {
   "cell_type": "code",
   "execution_count": 8,
   "id": "ea3da487",
   "metadata": {},
   "outputs": [
    {
     "name": "stdout",
     "output_type": "stream",
     "text": [
      "Loading dataset...\n"
     ]
    }
   ],
   "source": [
    "# Load the dataset\n",
    "print(\"Loading dataset...\")\n",
    "images, labels = load_dataset(DATASET_PATH, IMAGE_SIZE, NUM_CLASSES)\n",
    "labels = to_categorical(labels, num_classes=NUM_CLASSES)"
   ]
  },
  {
   "cell_type": "code",
   "execution_count": 9,
   "id": "85c562b1",
   "metadata": {},
   "outputs": [
    {
     "name": "stdout",
     "output_type": "stream",
     "text": [
      "Data successfully split among 3 clients.\n"
     ]
    }
   ],
   "source": [
    "# Split the data into federated clients\n",
    "def split_federated_clients(images, labels, num_clients):\n",
    "    \"\"\"Distribute the dataset among federated clients.\"\"\"\n",
    "    clients_data = []\n",
    "    data_size = len(images)\n",
    "    indices = np.arange(data_size)\n",
    "    random.shuffle(indices)\n",
    "    split_size = data_size // num_clients\n",
    "    for i in range(num_clients):\n",
    "        start_idx = i * split_size\n",
    "        end_idx = start_idx + split_size if i != num_clients - 1 else data_size\n",
    "        client_images = images[indices[start_idx:end_idx]]\n",
    "        client_labels = labels[indices[start_idx:end_idx]]\n",
    "        clients_data.append((client_images, client_labels))\n",
    "    return clients_data\n",
    "\n",
    "clients_data = split_federated_clients(images, labels, CLIENTS)\n",
    "print(f\"Data successfully split among {CLIENTS} clients.\")"
   ]
  },
  {
   "cell_type": "code",
   "execution_count": 17,
   "id": "c18036ed",
   "metadata": {},
   "outputs": [],
   "source": [
    "def create_model(input_shape, num_classes):\n",
    "    model = tf.keras.Sequential([\n",
    "        tf.keras.layers.InputLayer(input_shape=input_shape),\n",
    "        tf.keras.layers.Conv2D(32, (3, 3), activation='relu'),\n",
    "        tf.keras.layers.MaxPooling2D((2, 2)),\n",
    "        tf.keras.layers.Flatten(),\n",
    "        tf.keras.layers.Dense(128, activation='relu'),\n",
    "        tf.keras.layers.Dense(num_classes, activation='softmax')\n",
    "    ])\n",
    "    return model"
   ]
  },
  {
   "cell_type": "code",
   "execution_count": 18,
   "id": "eaf8e521",
   "metadata": {},
   "outputs": [],
   "source": [
    "def train_client(client_data, model, epochs, batch_size):\n",
    "    \"\"\"Train the model on client data.\"\"\"\n",
    "    client_images, client_labels = client_data\n",
    "    # Convert images and labels to numpy arrays if needed\n",
    "    client_images = np.array(client_images)\n",
    "    client_labels = np.array(client_labels)\n",
    "    # Check shapes\n",
    "    print(f\"Client images shape: {client_images.shape}\")\n",
    "    print(f\"Client labels shape: {client_labels.shape}\")\n",
    "    # Train the model\n",
    "    model.fit(client_images, client_labels, epochs=epochs, batch_size=batch_size, verbose=1)\n"
   ]
  },
  {
   "cell_type": "code",
   "execution_count": 19,
   "id": "a0cd97e9",
   "metadata": {},
   "outputs": [
    {
     "name": "stderr",
     "output_type": "stream",
     "text": [
      "c:\\Users\\cloud tech\\anaconda3\\envs\\py310\\lib\\site-packages\\keras\\src\\layers\\core\\input_layer.py:26: UserWarning: Argument `input_shape` is deprecated. Use `shape` instead.\n",
      "  warnings.warn(\n"
     ]
    },
    {
     "name": "stdout",
     "output_type": "stream",
     "text": [
      "Federated Round 1\n",
      "Training on Client 1\n",
      "Client images shape: (0,)\n",
      "Client labels shape: (0, 3)\n"
     ]
    },
    {
     "ename": "ValueError",
     "evalue": "Exception encountered when calling Sequential.call().\n\n\u001b[1mInvalid input shape for input Tensor(\"data:0\", shape=(32,), dtype=float32). Expected shape (None, 64, 64, 3), but input has incompatible shape (32,)\u001b[0m\n\nArguments received by Sequential.call():\n  • inputs=tf.Tensor(shape=(32,), dtype=float32)\n  • training=True\n  • mask=None",
     "output_type": "error",
     "traceback": [
      "\u001b[1;31m---------------------------------------------------------------------------\u001b[0m",
      "\u001b[1;31mValueError\u001b[0m                                Traceback (most recent call last)",
      "Cell \u001b[1;32mIn[19], line 16\u001b[0m\n\u001b[0;32m     14\u001b[0m local_model\u001b[38;5;241m.\u001b[39mcompile(optimizer\u001b[38;5;241m=\u001b[39m\u001b[38;5;124m'\u001b[39m\u001b[38;5;124madam\u001b[39m\u001b[38;5;124m'\u001b[39m, loss\u001b[38;5;241m=\u001b[39m\u001b[38;5;124m'\u001b[39m\u001b[38;5;124msparse_categorical_crossentropy\u001b[39m\u001b[38;5;124m'\u001b[39m, metrics\u001b[38;5;241m=\u001b[39m[\u001b[38;5;124m'\u001b[39m\u001b[38;5;124maccuracy\u001b[39m\u001b[38;5;124m'\u001b[39m])\n\u001b[0;32m     15\u001b[0m \u001b[38;5;66;03m# Train the local model\u001b[39;00m\n\u001b[1;32m---> 16\u001b[0m \u001b[43mtrain_client\u001b[49m\u001b[43m(\u001b[49m\u001b[43mclient_data\u001b[49m\u001b[43m,\u001b[49m\u001b[43m \u001b[49m\u001b[43mlocal_model\u001b[49m\u001b[43m,\u001b[49m\u001b[43m \u001b[49m\u001b[43mepochs\u001b[49m\u001b[38;5;241;43m=\u001b[39;49m\u001b[38;5;241;43m1\u001b[39;49m\u001b[43m,\u001b[49m\u001b[43m \u001b[49m\u001b[43mbatch_size\u001b[49m\u001b[38;5;241;43m=\u001b[39;49m\u001b[43mBATCH_SIZE\u001b[49m\u001b[43m)\u001b[49m\n\u001b[0;32m     17\u001b[0m \u001b[38;5;66;03m# Collect the weights from the local model\u001b[39;00m\n\u001b[0;32m     18\u001b[0m local_models\u001b[38;5;241m.\u001b[39mappend(local_model\u001b[38;5;241m.\u001b[39mget_weights())\n",
      "Cell \u001b[1;32mIn[18], line 11\u001b[0m, in \u001b[0;36mtrain_client\u001b[1;34m(client_data, model, epochs, batch_size)\u001b[0m\n\u001b[0;32m      9\u001b[0m \u001b[38;5;28mprint\u001b[39m(\u001b[38;5;124mf\u001b[39m\u001b[38;5;124m\"\u001b[39m\u001b[38;5;124mClient labels shape: \u001b[39m\u001b[38;5;132;01m{\u001b[39;00mclient_labels\u001b[38;5;241m.\u001b[39mshape\u001b[38;5;132;01m}\u001b[39;00m\u001b[38;5;124m\"\u001b[39m)\n\u001b[0;32m     10\u001b[0m \u001b[38;5;66;03m# Train the model\u001b[39;00m\n\u001b[1;32m---> 11\u001b[0m \u001b[43mmodel\u001b[49m\u001b[38;5;241;43m.\u001b[39;49m\u001b[43mfit\u001b[49m\u001b[43m(\u001b[49m\u001b[43mclient_images\u001b[49m\u001b[43m,\u001b[49m\u001b[43m \u001b[49m\u001b[43mclient_labels\u001b[49m\u001b[43m,\u001b[49m\u001b[43m \u001b[49m\u001b[43mepochs\u001b[49m\u001b[38;5;241;43m=\u001b[39;49m\u001b[43mepochs\u001b[49m\u001b[43m,\u001b[49m\u001b[43m \u001b[49m\u001b[43mbatch_size\u001b[49m\u001b[38;5;241;43m=\u001b[39;49m\u001b[43mbatch_size\u001b[49m\u001b[43m,\u001b[49m\u001b[43m \u001b[49m\u001b[43mverbose\u001b[49m\u001b[38;5;241;43m=\u001b[39;49m\u001b[38;5;241;43m1\u001b[39;49m\u001b[43m)\u001b[49m\n",
      "File \u001b[1;32mc:\\Users\\cloud tech\\anaconda3\\envs\\py310\\lib\\site-packages\\keras\\src\\utils\\traceback_utils.py:122\u001b[0m, in \u001b[0;36mfilter_traceback.<locals>.error_handler\u001b[1;34m(*args, **kwargs)\u001b[0m\n\u001b[0;32m    119\u001b[0m     filtered_tb \u001b[38;5;241m=\u001b[39m _process_traceback_frames(e\u001b[38;5;241m.\u001b[39m__traceback__)\n\u001b[0;32m    120\u001b[0m     \u001b[38;5;66;03m# To get the full stack trace, call:\u001b[39;00m\n\u001b[0;32m    121\u001b[0m     \u001b[38;5;66;03m# `keras.config.disable_traceback_filtering()`\u001b[39;00m\n\u001b[1;32m--> 122\u001b[0m     \u001b[38;5;28;01mraise\u001b[39;00m e\u001b[38;5;241m.\u001b[39mwith_traceback(filtered_tb) \u001b[38;5;28;01mfrom\u001b[39;00m \u001b[38;5;28;01mNone\u001b[39;00m\n\u001b[0;32m    123\u001b[0m \u001b[38;5;28;01mfinally\u001b[39;00m:\n\u001b[0;32m    124\u001b[0m     \u001b[38;5;28;01mdel\u001b[39;00m filtered_tb\n",
      "File \u001b[1;32mc:\\Users\\cloud tech\\anaconda3\\envs\\py310\\lib\\site-packages\\keras\\src\\models\\functional.py:264\u001b[0m, in \u001b[0;36mFunctional._adjust_input_rank\u001b[1;34m(self, flat_inputs)\u001b[0m\n\u001b[0;32m    262\u001b[0m             adjusted\u001b[38;5;241m.\u001b[39mappend(ops\u001b[38;5;241m.\u001b[39mexpand_dims(x, axis\u001b[38;5;241m=\u001b[39m\u001b[38;5;241m-\u001b[39m\u001b[38;5;241m1\u001b[39m))\n\u001b[0;32m    263\u001b[0m             \u001b[38;5;28;01mcontinue\u001b[39;00m\n\u001b[1;32m--> 264\u001b[0m     \u001b[38;5;28;01mraise\u001b[39;00m \u001b[38;5;167;01mValueError\u001b[39;00m(\n\u001b[0;32m    265\u001b[0m         \u001b[38;5;124mf\u001b[39m\u001b[38;5;124m\"\u001b[39m\u001b[38;5;124mInvalid input shape for input \u001b[39m\u001b[38;5;132;01m{\u001b[39;00mx\u001b[38;5;132;01m}\u001b[39;00m\u001b[38;5;124m. Expected shape \u001b[39m\u001b[38;5;124m\"\u001b[39m\n\u001b[0;32m    266\u001b[0m         \u001b[38;5;124mf\u001b[39m\u001b[38;5;124m\"\u001b[39m\u001b[38;5;132;01m{\u001b[39;00mref_shape\u001b[38;5;132;01m}\u001b[39;00m\u001b[38;5;124m, but input has incompatible shape \u001b[39m\u001b[38;5;132;01m{\u001b[39;00mx\u001b[38;5;241m.\u001b[39mshape\u001b[38;5;132;01m}\u001b[39;00m\u001b[38;5;124m\"\u001b[39m\n\u001b[0;32m    267\u001b[0m     )\n\u001b[0;32m    268\u001b[0m \u001b[38;5;66;03m# Add back metadata.\u001b[39;00m\n\u001b[0;32m    269\u001b[0m \u001b[38;5;28;01mfor\u001b[39;00m i \u001b[38;5;129;01min\u001b[39;00m \u001b[38;5;28mrange\u001b[39m(\u001b[38;5;28mlen\u001b[39m(flat_inputs)):\n",
      "\u001b[1;31mValueError\u001b[0m: Exception encountered when calling Sequential.call().\n\n\u001b[1mInvalid input shape for input Tensor(\"data:0\", shape=(32,), dtype=float32). Expected shape (None, 64, 64, 3), but input has incompatible shape (32,)\u001b[0m\n\nArguments received by Sequential.call():\n  • inputs=tf.Tensor(shape=(32,), dtype=float32)\n  • training=True\n  • mask=None"
     ]
    }
   ],
   "source": [
    "# Meta-Learning simulation: Iterate through clients and update a global model\n",
    "global_model = create_model((*IMAGE_SIZE, 3), NUM_CLASSES)\n",
    "global_model.compile(optimizer='adam', loss='sparse_categorical_crossentropy', metrics=['accuracy'])\n",
    "\n",
    "for round_num in range(1, EPOCHS + 1):\n",
    "    print(f\"Federated Round {round_num}\")\n",
    "    local_models = []\n",
    "    for client_idx, client_data in enumerate(clients_data):\n",
    "        print(f\"Training on Client {client_idx + 1}\")\n",
    "        # Clone and set the weights of the global model\n",
    "        local_model = tf.keras.models.clone_model(global_model)\n",
    "        local_model.set_weights(global_model.get_weights())\n",
    "        # Compile the local model\n",
    "        local_model.compile(optimizer='adam', loss='sparse_categorical_crossentropy', metrics=['accuracy'])\n",
    "        # Train the local model\n",
    "        train_client(client_data, local_model, epochs=1, batch_size=BATCH_SIZE)\n",
    "        # Collect the weights from the local model\n",
    "        local_models.append(local_model.get_weights())\n",
    "    \n",
    "    # Aggregate weights (simple average)\n",
    "    new_weights = np.mean(local_models, axis=0)\n",
    "    global_model.set_weights(new_weights)\n"
   ]
  },
  {
   "cell_type": "code",
   "execution_count": null,
   "id": "e2e89406",
   "metadata": {},
   "outputs": [],
   "source": [
    "# Evaluate the global model\n",
    "train_images, test_images, train_labels, test_labels = train_test_split(images, labels, test_size=0.2)\n",
    "test_loss, test_accuracy = global_model.evaluate(test_images, test_labels, verbose=1)\n",
    "print(f\"Global Model Accuracy: {test_accuracy * 100:.2f}%\")"
   ]
  }
 ],
 "metadata": {
  "kernelspec": {
   "display_name": "py310",
   "language": "python",
   "name": "python3"
  },
  "language_info": {
   "codemirror_mode": {
    "name": "ipython",
    "version": 3
   },
   "file_extension": ".py",
   "mimetype": "text/x-python",
   "name": "python",
   "nbconvert_exporter": "python",
   "pygments_lexer": "ipython3",
   "version": "3.10.14"
  }
 },
 "nbformat": 4,
 "nbformat_minor": 5
}
